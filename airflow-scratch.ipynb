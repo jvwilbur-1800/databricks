{
 "cells": [
  {
   "cell_type": "code",
   "execution_count": 2,
   "metadata": {
    "collapsed": true
   },
   "outputs": [
    {
     "ename": "ModuleNotFoundError",
     "evalue": "No module named 'confluent_kafka'",
     "output_type": "error",
     "traceback": [
      "\u001B[1;31m---------------------------------------------------------------------------\u001B[0m",
      "\u001B[1;31mModuleNotFoundError\u001B[0m                       Traceback (most recent call last)",
      "\u001B[1;32m<ipython-input-2-5ce89cd0c02b>\u001B[0m in \u001B[0;36m<module>\u001B[1;34m\u001B[0m\n\u001B[0;32m      1\u001B[0m \u001B[1;32mimport\u001B[0m \u001B[0msocket\u001B[0m\u001B[1;33m\u001B[0m\u001B[1;33m\u001B[0m\u001B[0m\n\u001B[1;32m----> 2\u001B[1;33m \u001B[1;32mfrom\u001B[0m \u001B[0mconfluent_kafka\u001B[0m \u001B[1;32mimport\u001B[0m \u001B[0mProducer\u001B[0m\u001B[1;33m\u001B[0m\u001B[1;33m\u001B[0m\u001B[0m\n\u001B[0m\u001B[0;32m      3\u001B[0m \u001B[1;32mimport\u001B[0m \u001B[0mpymssql\u001B[0m\u001B[1;33m\u001B[0m\u001B[1;33m\u001B[0m\u001B[0m\n\u001B[0;32m      4\u001B[0m \u001B[1;32mimport\u001B[0m \u001B[0marrow\u001B[0m\u001B[1;33m\u001B[0m\u001B[1;33m\u001B[0m\u001B[0m\n\u001B[0;32m      5\u001B[0m \u001B[1;32mimport\u001B[0m \u001B[0msys\u001B[0m\u001B[1;33m\u001B[0m\u001B[1;33m\u001B[0m\u001B[0m\n",
      "\u001B[1;31mModuleNotFoundError\u001B[0m: No module named 'confluent_kafka'"
     ]
    }
   ],
   "source": [
    "import socket\n",
    "from confluent_kafka import Producer\n",
    "import pymssql\n",
    "import arrow\n",
    "import sys\n",
    "import airflow\n",
    "from airflow.operators.python_operator import PythonOperator\n",
    "from datetime import datetime"
   ]
  },
  {
   "cell_type": "code",
   "execution_count": null,
   "outputs": [],
   "source": [
    "query = '''SELECT\n",
    "COLUMN_NAME name,\n",
    "DATA_TYPE type\n",
    "FROM INFORMATION_SCHEMA.COLUMNS\n",
    "where table_schema = 'dbo'\n",
    "and table_name = 'Customer'\n",
    "for json path;'''"
   ],
   "metadata": {
    "collapsed": false,
    "pycharm": {
     "name": "#%%\n"
    }
   }
  },
  {
   "cell_type": "code",
   "execution_count": 1,
   "outputs": [
    {
     "ename": "FileNotFoundError",
     "evalue": "[Errno 2] No such file or directory: 'user.avsc'",
     "output_type": "error",
     "traceback": [
      "\u001B[1;31m---------------------------------------------------------------------------\u001B[0m",
      "\u001B[1;31mFileNotFoundError\u001B[0m                         Traceback (most recent call last)",
      "\u001B[1;32m<ipython-input-1-e1fd4b8a9f25>\u001B[0m in \u001B[0;36m<module>\u001B[1;34m\u001B[0m\n\u001B[0;32m      3\u001B[0m \u001B[1;32mfrom\u001B[0m \u001B[0mavro\u001B[0m\u001B[1;33m.\u001B[0m\u001B[0mio\u001B[0m \u001B[1;32mimport\u001B[0m \u001B[0mDatumReader\u001B[0m\u001B[1;33m,\u001B[0m \u001B[0mDatumWriter\u001B[0m\u001B[1;33m\u001B[0m\u001B[1;33m\u001B[0m\u001B[0m\n\u001B[0;32m      4\u001B[0m \u001B[1;33m\u001B[0m\u001B[0m\n\u001B[1;32m----> 5\u001B[1;33m \u001B[0mschema\u001B[0m \u001B[1;33m=\u001B[0m \u001B[0mavro\u001B[0m\u001B[1;33m.\u001B[0m\u001B[0mschema\u001B[0m\u001B[1;33m.\u001B[0m\u001B[0mparse\u001B[0m\u001B[1;33m(\u001B[0m\u001B[0mopen\u001B[0m\u001B[1;33m(\u001B[0m\u001B[1;34m\"user.avsc\"\u001B[0m\u001B[1;33m,\u001B[0m \u001B[1;34m\"rb\"\u001B[0m\u001B[1;33m)\u001B[0m\u001B[1;33m.\u001B[0m\u001B[0mread\u001B[0m\u001B[1;33m(\u001B[0m\u001B[1;33m)\u001B[0m\u001B[1;33m)\u001B[0m\u001B[1;33m\u001B[0m\u001B[1;33m\u001B[0m\u001B[0m\n\u001B[0m\u001B[0;32m      6\u001B[0m \u001B[1;33m\u001B[0m\u001B[0m\n\u001B[0;32m      7\u001B[0m \u001B[0mwriter\u001B[0m \u001B[1;33m=\u001B[0m \u001B[0mDataFileWriter\u001B[0m\u001B[1;33m(\u001B[0m\u001B[0mopen\u001B[0m\u001B[1;33m(\u001B[0m\u001B[1;34m\"users.avro\"\u001B[0m\u001B[1;33m,\u001B[0m \u001B[1;34m\"wb\"\u001B[0m\u001B[1;33m)\u001B[0m\u001B[1;33m,\u001B[0m \u001B[0mDatumWriter\u001B[0m\u001B[1;33m(\u001B[0m\u001B[1;33m)\u001B[0m\u001B[1;33m,\u001B[0m \u001B[0mschema\u001B[0m\u001B[1;33m)\u001B[0m\u001B[1;33m\u001B[0m\u001B[1;33m\u001B[0m\u001B[0m\n",
      "\u001B[1;31mFileNotFoundError\u001B[0m: [Errno 2] No such file or directory: 'user.avsc'"
     ]
    }
   ],
   "source": [
    "import avro.schema\n",
    "from avro.datafile import DataFileReader, DataFileWriter\n",
    "from avro.io import DatumReader, DatumWriter\n",
    "\n",
    "# schema = avro.schema.parse(open(\"user.avsc\", \"rb\").read())\n",
    "\n",
    "writer = DataFileWriter(open(\"users.avro\", \"wb\"), DatumWriter(), schema)\n",
    "writer.append({\"name\": \"Alyssa\", \"favorite_number\": 256})\n",
    "writer.append({\"name\": \"Ben\", \"favorite_number\": 7, \"favorite_color\": \"red\"})\n",
    "writer.close()\n",
    "\n",
    "reader = DataFileReader(open(\"users.avro\", \"rb\"), DatumReader())\n",
    "for user in reader:\n",
    "    print(user)\n",
    "reader.close()"
   ],
   "metadata": {
    "collapsed": false,
    "pycharm": {
     "name": "#%%\n"
    }
   }
  },
  {
   "cell_type": "code",
   "execution_count": null,
   "outputs": [],
   "source": [
    "topic = 'order-dt'\n",
    "\n",
    "#server = \"10.0.37.103:1433\"  # dev-sql-31\n",
    "#user = \"test_user\"\n",
    "#password = \"1qaz@WSX\"\n",
    "# database = \"800Contacts\"\n",
    "date_filter = arrow.utcnow().shift(days=-1).to('US/Mountain').format('YYYY-MM-DD HH:mm:ss')\n",
    "\n",
    "#conn = pymssql.connect(server, user, password, database)\n",
    "conn = pymssql.connect(\n",
    "    server='10.0.37.103:1433',\n",
    "    user='test_user',\n",
    "    password='1qaz@WSX',\n",
    "    database='800Contacts'\n",
    ")\n",
    "\n",
    "\n",
    "default_args = {\n",
    "    'owner': 'jaredrules!',\n",
    "    'depends_on_past': False,\n",
    "    'provide_context': True,\n",
    "    'start_date': datetime(2019, 2, 20)\n",
    "}\n",
    "\n",
    "dag = airflow.DAG('jared-test', default_args=default_args)\n",
    "\n",
    "\n",
    "def funct(**kwargs):\n",
    "    with conn.cursor() as curs:\n",
    "        try:\n",
    "            curs.execute(f\"select * from dbo.orderdt where orderdate >= '{date_filter}'\")\n",
    "            results = curs.fetchall()\n",
    "        except BaseException as e:\n",
    "            print(e)\n",
    "        finally:\n",
    "            conn.commit()\n",
    "            conn.close()\n",
    "\n",
    "    def delivery_callback(err, msg):\n",
    "        if err:\n",
    "            sys.stderr.write('%% Message failed delivery: %s\\n' % err)\n",
    "        else:\n",
    "            sys.stderr.write('%% Message delivered to %s [%d] @ %d\\n' %\n",
    "                             (msg.topic(), msg.partition(), msg.offset()))\n",
    "\n",
    "    p = Producer({'bootstrap.servers': \"10.250.248.40:9092\", 'client.id': socket.gethostname()})\n",
    "    for i in results:\n",
    "        try:\n",
    "            p.produce(topic=topic, value=str(i), callback=delivery_callback)\n",
    "            print(f'message sent {i}')\n",
    "        except BufferError:\n",
    "            sys.stderr.write(f'Local producer queue is full ({len(p)} messages awaiting delivery): try again\\n')\n",
    "        p.poll(0)\n",
    "        sys.stderr.write(f'Waiting for {len(p)} deliveries\\n')\n",
    "    p.flush()\n",
    "\n",
    "\n",
    "first_dag = PythonOperator(\n",
    "    task_id='order-dt',\n",
    "    python_callable=funct,\n",
    "    dag=dag,\n",
    ")\n",
    "\n",
    "first_dag"
   ],
   "metadata": {
    "collapsed": false,
    "pycharm": {
     "name": "#%%\n"
    }
   }
  }
 ],
 "metadata": {
  "kernelspec": {
   "display_name": "Python 3",
   "language": "python",
   "name": "python3"
  },
  "language_info": {
   "codemirror_mode": {
    "name": "ipython",
    "version": 2
   },
   "file_extension": ".py",
   "mimetype": "text/x-python",
   "name": "python",
   "nbconvert_exporter": "python",
   "pygments_lexer": "ipython2",
   "version": "2.7.6"
  }
 },
 "nbformat": 4,
 "nbformat_minor": 0
}